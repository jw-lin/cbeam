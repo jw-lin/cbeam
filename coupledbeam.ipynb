{
 "cells": [
  {
   "cell_type": "markdown",
   "metadata": {},
   "source": [
    "## 0. What is `coupledbeam`?\n",
    "\n",
    "`coupledbeam` simulates the propagation of light through slowly-varying tapered waveguides using the coupled-mode approach. When applicable, this approach is typically much faster than alternate techniques like the finite difference beam propagation method (FD-BPM). `coupledbeam` is mostly written in Python, and has a completely Pythonic interface, with some parts written in Julia. In this notebook, we'll go over installation instructions, give some starting examples, and provide basic documentation."
   ]
  },
  {
   "cell_type": "markdown",
   "metadata": {},
   "source": [
    "## 1. Basics\n",
    "\n",
    "#### 1.1 **How to install**\n",
    "Right now, `coupledbeam` is not packaged (though it will be in the future). For now,  install by cloning the Github repo. You will need both a Python3 and a <a href=\"https://julialang.org/downloads/\">Julia</a> installation. Below are the following dependencies:\n",
    "\n",
    "**General**: `Gmsh` (download <a href=\"https://gmsh.info/\">here</a>)\n",
    "\n",
    "**Python**: `numpy`,`scipy`,`juliacall`,`wavesolve`,`pygmsh`,`meshio`,`matplotlib` <br> (All `pip` installable besides `wavesolve`, download <a href=\"https://github.com/jw-lin/wavesolve\">here</a>)\n",
    "\n",
    "**Julia**: `PythonCall`, `StaticArrays`, `GrundmannMoeller` <br>\n",
    "To install the Julia packages, after cloning `coupledbeam`, start a Julia REPL in the root directory and run the following:\n",
    "\n",
    "```\n",
    "using Pkg\n",
    "Pkg.activate(\"FEval\")\n",
    "Pkg.add(\"PythonCall\")\n",
    "Pkg.add(\"StaticArrays\")\n",
    "Pkg.add(\"GrundmannMoeller\")\n",
    "exit()\n",
    "```\n",
    "\n"
   ]
  },
  {
   "cell_type": "markdown",
   "metadata": {},
   "source": [
    "#### 1.2 **How it works**\n",
    "\n",
    "Below we provide a high-level overview of how the code works.\n",
    "\n",
    "**1.** To solve for the instantaneous eigenmodes of the waveguide at a given $z$ coordinate (which we define as the propagation direction), we use `wavesolve`, a Python package that applies the finite element method over quadratic triangle meshes.\n",
    "\n",
    "**2.** To generate meshes corresponding to the waveguide refractive index profile at $z$, we use `pygmsh`/`Gmsh`. **Only waveguides with step-index profiles are currently supported**.\n",
    "\n",
    "**3.** To simulate tapered waveguides, meshes are continuously evolved forward in $z$ by rescaling all mesh points. **Only tapered waveguides that can be represented this way are currently fully supported**. (Though it can be possible to simulate other kinds of waveguides with a little more work. I plan on extending functionality in the future. Probably will require an implementation of mesh generation with user-defined symmetries.)\n",
    "\n",
    "**4.** In order to quickly evaluate a FE mode field at an arbitrary $(x,y)$ point, `coupledbeam` includes `FEval`, a simple Julia package that implements bounding volume hierarchy (BVH) trees. These structures are used to store mesh triangles, for faster lookup. (There are probably much better implementations out there which I might switch to in the future.)  \n",
    "\n",
    "**5.** To quickly integrate functions involving FE modes (i.e. to take inner products), we use the `GrundmanMoeller` Julia package.\n",
    "\n",
    "**6.** The initial value problem corresponding to the coupled-mode equations is solved using standard Runge-Kutta schemes, as implemented through `SciPy`.\n",
    "\n",
    "#### 1.3 **Code structure**\n",
    "\n",
    "`coupledbeam` provides the following modules.\n",
    "\n",
    "> `waveguide` : one of two main modules, used to define waveguides.\n",
    "\n",
    "> `propagator` : the second main module, used to define propagation parameters and run propagations.\n",
    "\n",
    "> `FEval` : the \"finite element evaluation\" module, comprised of Julia source code and a Python wrapper unless you want to resample eigenmodes (e.g. onto rectangular grids).\n",
    "\n",
    "> `example.py` : an example Python scripts which simulates a 6-port photonic lantern. A similar example is covered in in Section 3."
   ]
  },
  {
   "cell_type": "markdown",
   "metadata": {},
   "source": [
    "## 2. How to use `coupledbeam`\n",
    "\n",
    "Broadly speaking, using `coupledbeam` is a two-step process: we first define a waveguide using the `waveguide` module, and then define a set of parameters for the numerical using the `propagator` module.\n",
    "\n",
    "\n",
    "### 2.1 **Defining waveguides**\n",
    "\n",
    "#### 2.1.1 ***the `Prim2D` class***\n",
    "\n",
    "The most basic parent class that represents a refractive index geometry is a `Prim2D`. Each `Prim2D` specifies the boundary of a closed region - through an array of $(x,y)$ points - and a refractive index value corresponding to the interior that region. Physically, these boundaries represent material interfaces in the waveguide. A `Prim2D` is generically initialized through\n",
    "\n",
    "`prim2D = waveguide.Prim2D(points,n)`\n",
    "\n",
    "**Arguments**\n",
    "\n",
    "1. `points` : an $N\\times 2$ array of $(x,y)$ points corresponding to a material interface. (The first and last point are automatically connected.)\n",
    "2.  `n` : the refractive index inside the region bounded by `points`. \n",
    "\n",
    "To simulate complex waveguide geometries, users are encouraged to define subclasses that inherit from `Prim2D`. Such classes can have there own `__init__()` functions, but should define a function `make_points()`, which takes in some set of args and returns an array `points`.  An example subclass of `waveguide.Prim2D` that is already implemented is `waveguide.Circle`.\n",
    "\n",
    "#### 2.1.2 ***the `Prim3D` class***\n",
    "\n",
    "The next level in complexity is the `Prim3D` parent class, which is essentially a `Prim2D` combined with a function that dictates evolution with respect to $z$. A `Prim3D` is generically initialized as \n",
    "\n",
    "`prim3D = waveguide.Prim2D(prim2D,label)`\n",
    "\n",
    "**Arguments**\n",
    "\n",
    "1. `prim2D` : a `Prim2D` object representing the cross-section of the `Prim3D`\n",
    "2. `label` : a user-specified identifying string to attach to the physical region bounded by `prim2D.points` (e.g. \"core\" or \"cladding\" for a step-index fiber.)\n",
    "\n",
    "Inheriting classes must implement the function `update(z)`, which updates `prim2D` to the desired $z$ coordinate. An example subclass of `waveguide.Prim3D` is `waveguide.Pipe`, which can be used to represent geometries where the cross-section remains circular at all $z$.\n",
    "\n",
    "#### 2.1.3 ***the `Waveguide` class***\n",
    "\n",
    "At the highest level, waveguides are defined through the `Waveguide` parent class. `Waveguide` objects are essentially nested lists of `Prim3D` objects: something like `[[p1,p2],[p3,p4,p5],[p6]]` where `p1,p2,...` are individual `Prim3D` object (the exact shape will vary). The refractive index geometry generated by the first set of primitives is overwritten by the next, and so on. A `Waveguide` is generically initialized as \n",
    "\n",
    "`wvg = Waveguide(prim3Dgroups)` \n",
    "\n",
    "where `prim3Dgroups` is the nested list of 3D primitives mentioned above.\n",
    "\n",
    "All `Waveguide` objects have three main class functions:\n",
    "\n",
    "> `Waveguide.update(z)` : this function updates the waveguide to a given $z$ coordinate, returning `None`. The base behavior of this function is to call `update` on every `Prim3D` in the waveguide.\n",
    "\n",
    "> `Waveguide.make_mesh()` : this function is implemented by the base class and returns a quadratic triangle finite element mesh correspodning to the cross-sectional structure of the waveguide at the current $z$ coordinate.\n",
    "\n",
    "> `Waveguide.assign_IOR()` : this *static* function returns a dictionary `IOR_dict` that maps each labelled region in the mesh to a refractive index value. The keys of this dictionary are the labels of the `Prim3D` objects composing the waveguide. Must be implemented by the inheriting class.\n",
    "\n",
    "\n",
    "There is also a more advanced mesh-generating function, `Waveguide.make_mesh_bndry_ref()`, which is similar to the usual `make_mesh()` function with the added option of adaptively refining the mesh in regions near material interfaces.\n",
    "\n",
    "#### ***2.1.4 An example waveguide - the `PhotonicLantern` class***\n",
    "\n",
    "An example of a `Waveguide` subclass is the `PhotonicLantern` class. This class of waveguide is composed of three groups of primitives: a single outer `Pipe` corresponding to lantern jacket, a single inner `Pipe` corresponding to the lantern cladding, and a set of small `Pipe`s embedded within the cladding - the cores. This class has a custom `__init__()` function which automatically generates and arranges `Pipe`s based on parameters like core radius, cladding radius, and core position(s). See `waveguide.PhotonicLantern` for more details. \n",
    "\n",
    "#### ***2.1.5 Utility functions for `Waveguides`***\n",
    "Below we list some useful functions implemented by the base `Waveguide` class.\n",
    "\n",
    "> `plot_boundaries()` : plot all boundaries (material interfaces) in the waveguide, at the currently updated $z$ coordinate.\n",
    "\n",
    "> `plot_mesh()` : generate and plot a mesh for the waveguide. You can also explicitly pass in a mesh, produced e.g. by `Waveguide.make_mesh()`, as well as refractive index information, through the optional args `mesh` and `IOR_dict`."
   ]
  },
  {
   "cell_type": "markdown",
   "metadata": {},
   "source": [
    "### 2.2 **Propagation - the `Propagator` class**\n",
    "\n",
    "Propagation is controlled via the `Propagator` class. \n",
    "\n",
    "#### ***2.2.1 Initialization***\n",
    "\n",
    "Below is the pattern for initialization: \n",
    "\n",
    "`prop = propagator.Propagator(wl,wvg,Nmax,save_dir)`\n",
    "\n",
    "**Arguments**\n",
    "\n",
    "1.  `wl` : the propagation wavelength (in the same spatial unit that the waveguide geometry is defined in)\n",
    "2. `wvg` : a `Waveguide` object\n",
    "3. `Nmax` : the number of propagating modes in this waveguide (we cannot at the moment treat radiative modes)\n",
    "4. `save_dir` : the local path for where data should be saved. The default is `\"./data\"`. Folders will be created if they are not found.\n",
    "\n",
    "#### ***2.2.2 \"Characterizing\" the waveguide***\n",
    "\n",
    "Before we can apply coupled-mode theory to simulate the waveguide we have loaded, we need to pre-compute the following waveguide properties, as a function of $z$:\n",
    "* the instanteous eigenmodes\n",
    "* the instanteous eigenvalues\n",
    "* the cross-coupling matrix (formed from the inner product of eigenmodes and eigenmode derivatives.)\n",
    "\n",
    "This step takes the bulk of the time when it comes to waveguide simulation; however, once we have the above, propagation of any guided wavefront through the waveguide is fast. To do this setup, we use the function `prop.prop_setup()`, which will adaptively step forwards in $z$ and compute the required items. Below is the function pattern:\n",
    "\n",
    "`prop.prop_setup(zi,zf)`\n",
    "\n",
    "**Arguments**\n",
    "\n",
    "1. `zi` : the starting $z$ coordinate, which does not have to be 0.\n",
    "2. `zf` : the ending $z$ coordinate, which does not have to be the maximum extent of the waveguide.\n",
    "\n",
    "There are also a number of optional arguments related to computation details.\n",
    "\n",
    "**Optional arguments**\n",
    "\n",
    "3. `tol` : this tolerance parameter controls the adaptive stepping. Smaller = more careful stepping. Values are typically in the 1e-4 to 1e-6 range (default 1e-5).\n",
    "4. `dz0` : this is the fixed $z$ step used to estimate derivatives via centered finite difference. Default is 0.1, but might need to be changed depending on your choice of spatial units.\n",
    "5. `min_zstep` : this is the minimum `z` step that can be chosen by the adaptive scheme. Computation will halt when the stepsize drops below this value. Default 1. Certain meshes sometimes perform poorly an trigger a halt - in these cases you can try remeshing with different parameters and rerunning. (Unfortunately I don't have a better solution atm!)\n",
    "6. `save` : set to True to write all computation results to file. These can be loaded later with `prop.load(tag)`, where `tag` is defined as below\n",
    "7. `tag` : a string tag to attach to output files so that they can be loaded later.\n",
    "8. `fixed_degen` : a nested list of indices (starting from 0) which identify degenerate mode groups. For instance, if we know *a priori* that modes (1,2) and modes (3,4) form degenerate pairs, we could pass in `fixed_degen=[[1,2],[3,4]]`. This can speed up computation (and resolve issues with `min_zstep`).\n",
    "9. `fixed_step` : set this to a numeric value to used a fixed $z$ step, bypassing the adaptive scheme.\n",
    "10. `mesh` : explicitly pass in a mesh (generated from `Waveguide.make_mesh()` or similar) if you don't want to use an auto-generated one.\n"
   ]
  },
  {
   "cell_type": "markdown",
   "metadata": {},
   "source": [
    "#### ***2.2.3 Propagation***\n",
    "\n",
    "Once `prop_setup()` has been run, or files produced by a previous setup have been loaded with `prop.load(tag)`, we can simulate light propagation. The first step is to quickly generate interpolation functions for the eigenmodes, eigenvalues, and cross-coupling matrix over $z$. This is done with:\n",
    "\n",
    "`prop.make_interp_funcs()`\n",
    "\n",
    "From here, we can define a launch field, expressed in the basis of the initial eigenmodes of the waveguide, e.g. \n",
    "\n",
    "`u0 = [1,0,0,0,0,0]`\n",
    "\n",
    "and the propagate the field using `prop.propagate()`. The pattern is as follows:\n",
    "\n",
    "`z,u,uf = prop.propagate(u0,zf,WKB)`\n",
    "\n",
    "Arguments \n",
    "\n",
    "1. `u0` : the launch wavefront, expressed in the basis of the initial eigenmodes.\n",
    "2. `zf` : the ending $z$ coordinate for propagation\n",
    "3. `WKB` : (optional), a boolean which controls whether or not an additional correction is included in the coupled-mode equations (default `True`)\n",
    "\n",
    "Returns\n",
    "\n",
    "1. `z` : an array of $z$ values selected by the IVP solver (`scipy.integrate.solve_ivp`, RK23 scheme).\n",
    "2. `u` : an `Nmax` $\\times$ `M` array of mode amplitudes computed at each of the `M` values of `z` (with fast $e^{i\\beta z}$ oscillation factored *out*).  \n",
    "3. `uf` : the final mode amplitudes (with fast $e^{i\\beta z}$ oscillation factored *in* - these are the actual complex-valued mode amplitudes at `zf`).\n"
   ]
  },
  {
   "cell_type": "markdown",
   "metadata": {},
   "source": [
    "## 3. Worked example: 6-port photonic lantern\n",
    "Below I include some code which uses `coupledbeam` to simulate the propagation of the ${\\rm LP}_{01}$ mode through a \"standard\" (uniform core size) 6-port photonic lantern. Below, we define all the waveguide and simulation parameters."
   ]
  },
  {
   "cell_type": "code",
   "execution_count": 16,
   "metadata": {},
   "outputs": [],
   "source": [
    "### we first define some lantern params ###\n",
    "\n",
    "import numpy as np\n",
    "\n",
    "wl = 1.55                       # wavelength, um\n",
    "taper_factor = 8.               # relative scale factor between frontside and backside waveguide geometry    \n",
    "rcore = 2.2/taper_factor        # radius of tapered-down single-mode cores at frontside, um\n",
    "rclad = 10                      # radius of cladding-jacket interface at frontside, um\n",
    "rjack = 30                      # radius of outer jacket boundary at frontside, um\n",
    "z_ex = 40000                    # lantern length, um\n",
    "\n",
    "nclad = 1.444                   # cladding refractive index\n",
    "ncore = nclad + 8.8e-3          # SM core refractive index\n",
    "njack = nclad - 5.5e-3          # jacket refractive index\n",
    "\n",
    "### define the initial (x,y) locations of the lantern cores\n",
    "\n",
    "t = 2*np.pi/5                   \n",
    "initial_offset = rclad*2/3 # this is the radial distance of the outer lantern cores from the center\n",
    "xpos_i = [0] + [initial_offset*np.cos(i*t) for i in range(5)]\n",
    "ypos_i = [0] + [initial_offset*np.sin(i*t) for i in range(5)]\n",
    "core_pos = np.array([xpos_i,ypos_i]).T \n",
    "### mesh resolution params\n",
    "\n",
    "core_res = 50                      # no. of line segments to use to resolve the core-cladding interface(s)\n",
    "clad_res = 150                      # no. of line segments to use to resolve the cladding-jacket interface\n",
    "jack_res = 30                       # no. of line segments to form the outer jacket boundary\n",
    "clad_mesh_size = 1.0                # mesh size (triangle side length) to use in the cladding region\n",
    "core_mesh_size = 0.1                # mesh size (triangle side length) to use inside the cores\n",
    "\n",
    "### propagator params\n",
    "\n",
    "tol = 1e-5              # adaptive z-stepping tolerance\n",
    "dz0 = 0.1               # fixed z-step to use for finite-differences\n",
    "fixed_degen = []        # degenerate mode groups - we leave this empty for now.\n",
    "\n",
    "std_rcores = np.array([rcore]*6) # arry of core radii. note that we have set all radii equal -> standard lantern.\n",
    "ncores = [ncore]*6 # array of core refractive indices"
   ]
  },
  {
   "cell_type": "markdown",
   "metadata": {},
   "source": [
    "Next, we initialize our `PhotonicLantern` object (yes there are a lot of args, I need to work on this ...)"
   ]
  },
  {
   "cell_type": "code",
   "execution_count": 18,
   "metadata": {},
   "outputs": [],
   "source": [
    "import waveguide\n",
    "lant = waveguide.PhotonicLantern(core_pos,std_rcores,rclad,rjack,ncores,nclad,njack,z_ex,taper_factor,core_res,clad_res,jack_res,core_mesh_size,clad_mesh_size)"
   ]
  },
  {
   "cell_type": "markdown",
   "metadata": {},
   "source": [
    "Initialize a `Propagator` object ..."
   ]
  },
  {
   "cell_type": "code",
   "execution_count": 10,
   "metadata": {},
   "outputs": [],
   "source": [
    "import propagator\n",
    "\n",
    "prop = propagator.Propagator(wl,lant,6)"
   ]
  },
  {
   "cell_type": "markdown",
   "metadata": {},
   "source": [
    "Compute the eigenmodes, eigenvalues, and cross-coupling matrices of the waveguide for $z\\in $[0,`z_ex`], and save it to `\"test\"`."
   ]
  },
  {
   "cell_type": "code",
   "execution_count": 19,
   "metadata": {},
   "outputs": [
    {
     "name": "stdout",
     "output_type": "stream",
     "text": [
      "generating mesh...\n",
      "number of mesh points:  8489\n",
      "starting computation ...\n",
      "current z: 30556.25 / 40000; tol. not met, reducing step        comp. halted\n"
     ]
    },
    {
     "ename": "Exception",
     "evalue": "error: zstep has decreased below lower limit - eigenmodes may not be varying continuously",
     "output_type": "error",
     "traceback": [
      "\u001b[1;31m---------------------------------------------------------------------------\u001b[0m",
      "\u001b[1;31mException\u001b[0m                                 Traceback (most recent call last)",
      "Cell \u001b[1;32mIn[19], line 3\u001b[0m\n\u001b[0;32m      1\u001b[0m \u001b[38;5;66;03m# this'll take like 30 minutes ...\u001b[39;00m\n\u001b[1;32m----> 3\u001b[0m \u001b[43mprop\u001b[49m\u001b[38;5;241;43m.\u001b[39;49m\u001b[43mprop_setup\u001b[49m\u001b[43m(\u001b[49m\u001b[38;5;241;43m0\u001b[39;49m\u001b[43m,\u001b[49m\u001b[43mz_ex\u001b[49m\u001b[43m,\u001b[49m\u001b[43msave\u001b[49m\u001b[38;5;241;43m=\u001b[39;49m\u001b[38;5;28;43;01mTrue\u001b[39;49;00m\u001b[43m,\u001b[49m\u001b[43mtag\u001b[49m\u001b[38;5;241;43m=\u001b[39;49m\u001b[38;5;124;43m\"\u001b[39;49m\u001b[38;5;124;43mtest\u001b[39;49m\u001b[38;5;124;43m\"\u001b[39;49m\u001b[43m,\u001b[49m\u001b[43mtol\u001b[49m\u001b[38;5;241;43m=\u001b[39;49m\u001b[43mtol\u001b[49m\u001b[43m,\u001b[49m\u001b[43mfixed_degen\u001b[49m\u001b[38;5;241;43m=\u001b[39;49m\u001b[43mfixed_degen\u001b[49m\u001b[43m,\u001b[49m\u001b[43mdz0\u001b[49m\u001b[38;5;241;43m=\u001b[39;49m\u001b[43mdz0\u001b[49m\u001b[43m)\u001b[49m\n",
      "File \u001b[1;32mc:\\Users\\jon88\\Desktop\\coupledbeam\\propagator.py:383\u001b[0m, in \u001b[0;36mPropagator.prop_setup\u001b[1;34m(self, zi, zf, tol, dz0, min_zstep, save, tag, fixed_degen, fixed_step, mesh)\u001b[0m\n\u001b[0;32m    381\u001b[0m \u001b[38;5;28;01mif\u001b[39;00m zstep0\u001b[38;5;241m<\u001b[39mmin_zstep:\n\u001b[0;32m    382\u001b[0m     \u001b[38;5;28mprint\u001b[39m(\u001b[38;5;124m\"\u001b[39m\u001b[38;5;124mcomp. halted\u001b[39m\u001b[38;5;124m\"\u001b[39m)\n\u001b[1;32m--> 383\u001b[0m     \u001b[38;5;28;01mraise\u001b[39;00m \u001b[38;5;167;01mException\u001b[39;00m(\u001b[38;5;124m\"\u001b[39m\u001b[38;5;124merror: zstep has decreased below lower limit - eigenmodes may not be varying continuously\u001b[39m\u001b[38;5;124m\"\u001b[39m)\n\u001b[0;32m    384\u001b[0m \u001b[38;5;28;01mif\u001b[39;00m fixed_step:\n\u001b[0;32m    385\u001b[0m     dz \u001b[38;5;241m=\u001b[39m fixed_step\n",
      "\u001b[1;31mException\u001b[0m: error: zstep has decreased below lower limit - eigenmodes may not be varying continuously"
     ]
    }
   ],
   "source": [
    "# this'll take like 45 minutes ...\n",
    "\n",
    "prop.prop_setup(0,z_ex,save=True,tag=\"test\",tol=tol,fixed_degen=fixed_degen,dz0=dz0)\n",
    "\n",
    "# can also load with \n",
    "# prop.load(tag=\"test\")"
   ]
  },
  {
   "cell_type": "markdown",
   "metadata": {},
   "source": [
    "Make the interpolation functions"
   ]
  },
  {
   "cell_type": "code",
   "execution_count": null,
   "metadata": {},
   "outputs": [],
   "source": [
    "prop.make_interp_funcs()"
   ]
  },
  {
   "cell_type": "markdown",
   "metadata": {},
   "source": [
    "Finally, propagate the ${\\rm LP}_{01}$ mode (which has the highest eigenvalue and is therefore the first eigenmode at the waveguide entrance)."
   ]
  },
  {
   "cell_type": "code",
   "execution_count": null,
   "metadata": {},
   "outputs": [],
   "source": [
    "u0 = [1,0,0,0,0,0]\n",
    "\n",
    "z,u,uf = prop.propagate(u0,z_ex,WKB=True)\n",
    "\n",
    "print(\"final mode amplitudes: \")\n",
    "print(np.abs(uf))\n",
    "print(\"final mode powers: \")\n",
    "print(np.power(np.abs(uf),2))\n",
    "\n",
    "import matplotlib.pyplot as plt\n",
    "for i in range(6): # plotting evolution in mode power\n",
    "    plt.plot(z,np.power(np.abs(u[i]),2),label='mode '+str(i))\n",
    "\n",
    "plt.plot(z,np.sum(np.power(np.abs(u),2),axis=0),color='k',zorder=-100,label=\"total power\",ls='dashed')\n",
    "plt.title('LP01 propagation - std PL')\n",
    "\n",
    "plt.xlabel(r'$z$ (um)')\n",
    "plt.ylabel(\"power\")\n",
    "\n",
    "plt.legend(loc='best')\n",
    "plt.show()"
   ]
  }
 ],
 "metadata": {
  "kernelspec": {
   "display_name": "astro",
   "language": "python",
   "name": "python3"
  },
  "language_info": {
   "codemirror_mode": {
    "name": "ipython",
    "version": 3
   },
   "file_extension": ".py",
   "mimetype": "text/x-python",
   "name": "python",
   "nbconvert_exporter": "python",
   "pygments_lexer": "ipython3",
   "version": "3.10.12"
  }
 },
 "nbformat": 4,
 "nbformat_minor": 2
}
