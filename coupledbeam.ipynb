{
 "cells": [
  {
   "cell_type": "markdown",
   "metadata": {},
   "source": [
    "### 0. What is `coupledbeam`?\n",
    "\n",
    "`coupledbeam` simulates the propagation of light through slowly-varying waveguides using the coupled-mode approach. The interface is all Python, with some lower-level parts written in Julia. In this notebook, we'll go over installation instructions, give some starting examples, and provide basic documentation."
   ]
  },
  {
   "cell_type": "markdown",
   "metadata": {},
   "source": [
    "### 1. Basics\n",
    "\n",
    "#### 1.1 How to install\n",
    "Right now, `coupledbeam` is not packaged (though it will be in the future). For now,  install by cloning the Github repo. You will need both a Python3 and a <a href=\"https://julialang.org/downloads/\">Julia</a> installation. Below are the following dependencies:\n",
    "\n",
    "**General**: `Gmsh` (download <a href=\"https://gmsh.info/\">here</a>)\n",
    "\n",
    "**Python**: `numpy`,`scipy`,`juliacall`,`wavesolve`,`pygmsh`,`meshio`,`matplotlib` <br> (All `pip` installable besides `wavesolve`, download <a href=\"https://github.com/jw-lin/wavesolve\">here</a>)\n",
    "\n",
    "**Julia**: `PythonCall`, `StaticArrays`, `GrundmannMoeller` <br>\n",
    "To install the Julia packages, after cloning `coupledbeam`, start a Julia REPL in the root directory and run the following:\n",
    "\n",
    "```\n",
    "using Pkg\n",
    "Pkg.activate(\"FEval\")\n",
    "Pkg.add(\"PythonCall\")\n",
    "Pkg.add(\"StaticArrays\")\n",
    "Pkg.add(\"GrundmannMoeller\")\n",
    "exit()\n",
    "```\n",
    "\n"
   ]
  },
  {
   "cell_type": "markdown",
   "metadata": {},
   "source": [
    "#### 1.2 How it works\n",
    "\n",
    "Below we provide a high-level overview of the code components.\n",
    "\n",
    "1. To solve for the instantaneous eigenmodes of the waveguide at a given $z$ coordinate (which we define as the propagation direction), we use `wavesolve`, a Python package that applies the finite element method over quadratic triangle meshes.\n",
    "2. To generate meshes for FEM solving, we use `pygmsh`/`Gmsh`. \n",
    "3. In order to quickly evaluate a FE mode field at an arbitrary $(x,y)$ point, `coupledbeam` includes `FEval`, which is just some basic Julia code that implements bounding volume hierarchy (BVH) tree. These structures are used to store mesh triangles, for faster lookup.   \n",
    "4. To quickly integrate functions involving FE modes (i.e. to take inner products), we use the `GrundmanMoeller` Julia package, which implements integration schemes over triangular regions. \n",
    "5. The initial value problem corresponding to the coupled-mode equations is solved using a standard Runge-Kutta scheme."
   ]
  },
  {
   "cell_type": "markdown",
   "metadata": {},
   "source": [
    "### 2. How to use `coupledbeam`\n",
    "\n",
    "## 2.1 Overview\n",
    "\n",
    "`coupledbeam` provides two classes: a `waveguide` class, through which waveguides are designed, and a `propagator` class, which implements the actual numerical modelling."
   ]
  },
  {
   "cell_type": "code",
   "execution_count": null,
   "metadata": {},
   "outputs": [],
   "source": []
  },
  {
   "cell_type": "code",
   "execution_count": null,
   "metadata": {},
   "outputs": [],
   "source": []
  }
 ],
 "metadata": {
  "language_info": {
   "name": "python"
  }
 },
 "nbformat": 4,
 "nbformat_minor": 2
}
